{
 "cells": [
  {
   "cell_type": "markdown",
   "metadata": {},
   "source": [
    "***US Medical Insurance Cost Analysis***\n",
    "<br>\n",
    "*(without pandas)*"
   ]
  },
  {
   "cell_type": "markdown",
   "metadata": {},
   "source": [
    "***\n",
    "Import the csv and put it into a dictionary with each column in a list"
   ]
  },
  {
   "cell_type": "code",
   "execution_count": 104,
   "metadata": {},
   "outputs": [],
   "source": [
    "# U.S. Medical Insurance Costs Analysis\n",
    "import csv\n",
    "from matplotlib import pyplot as plt\n",
    "import numpy as np\n",
    "\n",
    "# Open the csv file and put into a dictionary\n",
    "# Put each column into a list\n",
    "\n",
    "us_insurance_info = []\n",
    "ages = []\n",
    "sex = []\n",
    "bmi = []\n",
    "children = []\n",
    "smoker = []\n",
    "region = []\n",
    "charges = []\n",
    "with open('insurance.csv') as insurance:\n",
    "    insurance_csv = csv.DictReader(insurance)\n",
    "    for item in insurance_csv:\n",
    "        us_insurance_info.append(item) \n",
    "        ages.append(float(item['age']))\n",
    "        sex.append(item['sex'])\n",
    "        bmi.append(float(item['bmi']))\n",
    "        children.append(int(item['children']))\n",
    "        smoker.append(item['smoker'])\n",
    "        region.append(item['region'])\n",
    "        charges.append(float(item['charges']))"
   ]
  },
  {
   "cell_type": "markdown",
   "metadata": {},
   "source": [
    "***\n",
    "Make a function to find the average from a given data and use it."
   ]
  },
  {
   "cell_type": "code",
   "execution_count": 105,
   "metadata": {},
   "outputs": [],
   "source": [
    "# Function to find the average from the data\n",
    "def average(data):\n",
    "    sum = 0\n",
    "    for i in range(len(data)):\n",
    "        sum += data[i]\n",
    "    average = sum / len(data)\n",
    "    return average"
   ]
  },
  {
   "cell_type": "code",
   "execution_count": 106,
   "metadata": {},
   "outputs": [
    {
     "data": {
      "image/png": "[encoded data removed]",
      "text/plain": [
       "<Figure size 432x288 with 1 Axes>"
      ]
     },
     "metadata": {
      "needs_background": "light"
     },
     "output_type": "display_data"
    },
    {
     "name": "stdout",
     "output_type": "stream",
     "text": [
      "The average age is 39.21\n"
     ]
    }
   ],
   "source": [
    "plt.hist(ages, color = \"#CC79A7\")\n",
    "plt.xlabel(\"Age (years)\")\n",
    "plt.ylabel(\"Count\")\n",
    "plt.title(\"Distribution of Ages in Dataset\")\n",
    "plt.axvline(x = average(ages), color = 'b', label = 'axvline - full height')\n",
    "plt.show()\n",
    "print(\"The average age is \" + str(round(average(ages), 2)))"
   ]
  },
  {
   "cell_type": "markdown",
   "metadata": {},
   "source": [
    "- Question: Why are there so many more people in their 20s? Is it skewing the average younger?\n",
    "***\n",
    "**Does location affect insurance costs?**\n",
    "<br>\n",
    "Make a function to find the location with highest frequency"
   ]
  },
  {
   "cell_type": "code",
   "execution_count": 107,
   "metadata": {},
   "outputs": [],
   "source": [
    "# Function to find the location with the highest frequency of appearance\n",
    "def frequent_location(data):\n",
    "    frequency = {}\n",
    "    for location in data:\n",
    "        if location not in frequency:\n",
    "            frequency[location] = 1\n",
    "        else:\n",
    "            frequency[location] += 1\n",
    "    return max(frequency, key=frequency.get), max(frequency.values())"
   ]
  },
  {
   "cell_type": "code",
   "execution_count": 108,
   "metadata": {},
   "outputs": [
    {
     "name": "stdout",
     "output_type": "stream",
     "text": [
      "\n",
      "The most frequently represented location is the southeast.\n",
      "It has 364 samples in the dataset out of a total 1338 people.\n",
      "The southeast represents 27.2 percent of the total data.\n",
      "\n"
     ]
    }
   ],
   "source": [
    "print('')\n",
    "print(\"The most frequently represented location is the \" + str(frequent_location(region)[0]) + '.')\n",
    "print(\"It has \" + str(frequent_location(region)[1]) + \" samples in the dataset out of a total \" + str(len(region)) + \" people.\")\n",
    "print(\"The \" + str(frequent_location(region)[0] + \" represents \" + str(round((frequent_location(region)[1]/len(region))*100, 2)) + \" percent of the total data.\"))\n",
    "print('')"
   ]
  },
  {
   "cell_type": "markdown",
   "metadata": {},
   "source": [
    "- Question: Why is the southeast slightly more represented than the other 3 regions?"
   ]
  },
  {
   "cell_type": "markdown",
   "metadata": {},
   "source": [
    "*** \n",
    "Make a function to find charges by region"
   ]
  },
  {
   "cell_type": "code",
   "execution_count": 109,
   "metadata": {},
   "outputs": [
    {
     "name": "stdout",
     "output_type": "stream",
     "text": [
      "\n"
     ]
    },
    {
     "data": {
      "image/png": "[encoded data removed]",
      "text/plain": [
       "<Figure size 432x288 with 1 Axes>"
      ]
     },
     "metadata": {
      "needs_background": "light"
     },
     "output_type": "display_data"
    }
   ],
   "source": [
    "# Function to find charges by region\n",
    "def highest_avg_by_region(regions, charges):\n",
    "    locations_charges = {}\n",
    "    averages = []\n",
    "    locations_list = []\n",
    "    i = 0\n",
    "    for location in regions:\n",
    "        if location not in locations_charges:\n",
    "            locations_charges[location] = {'count':1, 'sum':charges[i]}\n",
    "            i+=1\n",
    "        else:\n",
    "            locations_charges[location]['count']+=1\n",
    "            locations_charges[location]['sum']+= charges[i]\n",
    "            i+=1\n",
    "\n",
    "    for location in locations_charges:\n",
    "        #print(\"The average charge for the \" + location + \" is \" + str(round((locations_charges[location]['sum']/locations_charges[location]['count']), 2)))        \n",
    "        averages.append(round((locations_charges[location]['sum']/locations_charges[location]['count']), 2))\n",
    "        locations_list.append(location)\n",
    "    plt.bar([i for i in range(1,5)],averages, color = \"#009E73\")\n",
    "    ax = plt.subplot()\n",
    "    plt.ylim(12000, 15500)     # set the ylim to bottom, top\n",
    "    plt.title(\"Average Charges by Region\")\n",
    "    ax.set_xticks([i for i in range(1,5)])\n",
    "    ax.set_xticklabels(locations_list)\n",
    "    plt.ylabel(\"Average Yearly Cost ($)\")\n",
    "print(\"\")\n",
    "highest_avg_by_region(region,charges)"
   ]
  },
  {
   "cell_type": "markdown",
   "metadata": {},
   "source": [
    "- Question: The southeast has higher average charges, where the other regions' charges are closer. Why is this? What is different about the southeast?"
   ]
  },
  {
   "cell_type": "markdown",
   "metadata": {},
   "source": [
    "***\n",
    "**What effect does smoking have on health costs?**"
   ]
  },
  {
   "cell_type": "code",
   "execution_count": 110,
   "metadata": {},
   "outputs": [
    {
     "data": {
      "image/png": "[encoded data removed]",
      "text/plain": [
       "<Figure size 432x288 with 1 Axes>"
      ]
     },
     "metadata": {
      "needs_background": "light"
     },
     "output_type": "display_data"
    }
   ],
   "source": [
    "# Function to return the average cost of smokers and non-smokers\n",
    "def smoker_comparison(smoke_status, cost):\n",
    "    sum_non = 0\n",
    "    total_non = 0\n",
    "    sum_smoker = 0\n",
    "    total_smoker = 0\n",
    "    for i in range(len(smoke_status)):\n",
    "        if smoke_status[i] == 'yes':\n",
    "            sum_smoker += cost[i]\n",
    "            total_smoker += 1\n",
    "        else:\n",
    "            sum_non += cost[i]\n",
    "            total_non += 1\n",
    "        \n",
    "    average_smoker = round(float(sum_smoker/total_smoker), 2)\n",
    "    average_non = round(float(sum_non/total_non), 2)\n",
    "    plt.bar([i for i in range(0,2)],(average_smoker, average_non), color = \"#D55E00\")\n",
    "    ax = plt.subplot()\n",
    "    ax.set_xticks([0,1])\n",
    "    ax.set_xticklabels([\"Smoker\", \"Non-Smoker\"])\n",
    "    plt.ylabel(\"Average Yearly Cost ($)\")\n",
    "    plt.title(\"Average Yearly Cost for Smoker vs Non-Smoker\")\n",
    "    #return average_smoker, average_non\n",
    "\n",
    "#print('')\n",
    "#print(\"The average cost for a smoker is \" + str(smoker_comparison(smoker, charges)[0]) \n",
    "#      + \" and the average cost for a non-smoker is \" + str(smoker_comparison(smoker, charges)[1]))\n",
    "smoker_comparison(smoker, charges)"
   ]
  },
  {
   "cell_type": "markdown",
   "metadata": {},
   "source": [
    "***\n",
    "- Question: Do smoking rates vary by region? "
   ]
  },
  {
   "cell_type": "code",
   "execution_count": 111,
   "metadata": {},
   "outputs": [
    {
     "name": "stdout",
     "output_type": "stream",
     "text": [
      "\n"
     ]
    },
    {
     "data": {
      "image/png": "[encoded data removed]",
      "text/plain": [
       "<Figure size 432x288 with 1 Axes>"
      ]
     },
     "metadata": {
      "needs_background": "light"
     },
     "output_type": "display_data"
    }
   ],
   "source": [
    "# Function to find number of smokers by region\n",
    "def smokers_region(regions, smokers):\n",
    "    locations_smokers = {}\n",
    "    locations_list = []\n",
    "    count = []\n",
    "    for location in regions:\n",
    "        if location not in locations_smokers:\n",
    "            locations_smokers[location] = 1\n",
    "        else:\n",
    "            locations_smokers[location] +=1\n",
    "    for location in locations_smokers:\n",
    "        #print(\"The number of smokers in \" + location + \" is \" + str(round(locations_smokers[location], 2)))\n",
    "        count.append(round(locations_smokers[location], 2))\n",
    "        locations_list.append(location)\n",
    "    plt.bar([i for i in range(1,5)],count, color = \"#888888\")\n",
    "    ax = plt.subplot()\n",
    "    plt.ylim(250, 375)     # set the ylim to bottom, top\n",
    "    plt.title(\"Smokers by Region\")\n",
    "    ax.set_xticks([i for i in range(1,5)])\n",
    "    ax.set_xticklabels(locations_list)\n",
    "    plt.ylabel(\"Count\")\n",
    "        \n",
    "print(\"\")\n",
    "smokers_region(region, smoker)\n"
   ]
  },
  {
   "cell_type": "markdown",
   "metadata": {},
   "source": [
    "From the data, it appears that there are more smokers in the southeast. This should correlate with the higher average costs we see in the southeast.\n",
    "\n",
    "<br>\n",
    "- Question: Why are there more smokers in the southeast? Are there regional factors that affect smoking rate?"
   ]
  },
  {
   "cell_type": "markdown",
   "metadata": {},
   "source": [
    "***\n",
    "**What effect does number of children have on insurance costs?**"
   ]
  },
  {
   "cell_type": "code",
   "execution_count": 112,
   "metadata": {},
   "outputs": [
    {
     "name": "stdout",
     "output_type": "stream",
     "text": [
      "\n",
      "The average age of a person who has at least one child is 39.78\n",
      "\n"
     ]
    }
   ],
   "source": [
    "# A function to calculate the average age of a person who has at least one child\n",
    "def avg_child(children, age):\n",
    "    age_sum = 0\n",
    "    number_people = 0\n",
    "    for i in range(len(age)):\n",
    "        if children[i] >= 1:\n",
    "            age_sum += age[i]\n",
    "            number_people += 1\n",
    "    average = age_sum/number_people\n",
    "    return average\n",
    "\n",
    "print('')\n",
    "print(\"The average age of a person who has at least one child is \" + str(round(avg_child(children, ages), 2)))\n",
    "print('')"
   ]
  },
  {
   "cell_type": "code",
   "execution_count": 170,
   "metadata": {},
   "outputs": [
    {
     "data": {
      "image/png": "[encoded data removed]",
      "text/plain": [
       "<Figure size 432x288 with 1 Axes>"
      ]
     },
     "metadata": {
      "needs_background": "light"
     },
     "output_type": "display_data"
    }
   ],
   "source": [
    "plt.hist(children, bins=range(1,6), width = 0.5, align = 'mid', color = \"#009E73\")\n",
    "plt.xlabel(\"Number of Children\")\n",
    "plt.ylabel(\"Count\")\n",
    "plt.title(\"Distribution of Number of Children in Dataset\")\n",
    "ax = plt.subplot()\n",
    "ax.set_xticks([i for i in range(1, 6)])\n",
    "plt.ylabel(\"Count\")\n",
    "plt.show()\n"
   ]
  },
  {
   "cell_type": "code",
   "execution_count": 171,
   "metadata": {},
   "outputs": [
    {
     "name": "stdout",
     "output_type": "stream",
     "text": [
      "The average cost for someone with 0 children is 16884.923999999966\n",
      "The average cost for someone with 1 children is 16884.923999999985\n",
      "The average cost for someone with 3 children is 16884.92400000007\n",
      "The average cost for someone with 2 children is 16884.924000000083\n",
      "The average cost for someone with 5 children is 16884.924\n",
      "The average cost for someone with 4 children is 16884.924\n",
      "\n",
      "From the data, is seems that the number of children does not affect the average cost\n",
      "\n"
     ]
    },
    {
     "data": {
      "image/png": "[encoded data removed]",
      "text/plain": [
       "<Figure size 432x288 with 1 Axes>"
      ]
     },
     "metadata": {
      "needs_background": "light"
     },
     "output_type": "display_data"
    }
   ],
   "source": [
    "#Function to see cost by number of children\n",
    "def children_cost(children, charges):\n",
    "    cost_by_children={}\n",
    "    count_by_children = {}\n",
    "    i = 0\n",
    "    for x in children:\n",
    "        if x not in cost_by_children:\n",
    "            cost_by_children[x] = charges[i]\n",
    "            count_by_children[x] = 1\n",
    "        else:\n",
    "            cost_by_children[x] += charges[i]\n",
    "            count_by_children[x] += 1\n",
    "        i+=0\n",
    "    average_dict = {}\n",
    "    for key in cost_by_children:\n",
    "        average = cost_by_children[key]/count_by_children[key]\n",
    "        average_dict[key] = average\n",
    "        print(\"The average cost for someone with \" + str(key) + \" children is \" + str(average_dict[key]))\n",
    "    plt.bar(average_dict.keys(), average_dict.values(), color = \"#009E73\")\n",
    "    plt.ylim(16880, 16890)     # set the ylim to bottom, top\n",
    "    plt.title(\"Average Insurance Cost per Number of Kids\")\n",
    "    plt.xlabel(\"Number of Kids\")\n",
    "    plt.ylabel(\"Average Cost (per year)\")\n",
    "    plt.show\n",
    "children_cost(children, charges)\n",
    "print(\"\")\n",
    "print(\"From the data, is seems that the number of children does not affect the average cost\")\n",
    "print(\"\")"
   ]
  },
  {
   "cell_type": "code",
   "execution_count": 93,
   "metadata": {},
   "outputs": [
    {
     "name": "stdout",
     "output_type": "stream",
     "text": [
      "\n",
      "21.0% of people with children smoke.\n",
      "20.0% of people without children smoke.\n",
      "\n"
     ]
    }
   ],
   "source": [
    "# Function to see if people with children smoke more or less than people without\n",
    "def smokers_children(children, smoker):\n",
    "    smokers_children = {\"yes\":0, \"no\":0}\n",
    "    smokers_no_kids = {\"yes\":0, \"no\":0}\n",
    "    i = 0\n",
    "    for x in children:\n",
    "        if x >= 1:\n",
    "            if smoker[i] == 'yes':\n",
    "                smokers_children['yes'] += 1\n",
    "            else:\n",
    "                smokers_children['no'] += 1\n",
    "            i += 1\n",
    "        else:\n",
    "            if smoker[i] == 'yes':\n",
    "                smokers_no_kids['yes'] += 1\n",
    "            else:\n",
    "                smokers_no_kids['no'] += 1\n",
    "            i += 1\n",
    "    percentage_children = 100*round(smokers_children['yes']/(smokers_children['yes']+smokers_children['no']), 2)\n",
    "    percentage_no_kids = 100*round(smokers_no_kids['yes']/(smokers_no_kids['yes']+smokers_no_kids['no']), 2)\n",
    "\n",
    "    print(str(percentage_children) + \"% of people with children smoke.\")\n",
    "    print(str(percentage_no_kids) + \"% of people without children smoke.\")\n",
    "print(\"\")\n",
    "smokers_children(children, smoker)\n",
    "print(\"\")"
   ]
  },
  {
   "cell_type": "markdown",
   "metadata": {},
   "source": [
    "From this, it seems like smoking percentage is consistent, regardless of whether or not people have kids."
   ]
  },
  {
   "cell_type": "markdown",
   "metadata": {},
   "source": [
    "***\n",
    "**How does BMI affect costs?**"
   ]
  },
  {
   "cell_type": "code",
   "execution_count": 172,
   "metadata": {},
   "outputs": [
    {
     "data": {
      "image/png": "[encoded data removed]",
      "text/plain": [
       "<Figure size 432x288 with 1 Axes>"
      ]
     },
     "metadata": {
      "needs_background": "light"
     },
     "output_type": "display_data"
    },
    {
     "name": "stdout",
     "output_type": "stream",
     "text": [
      "The average BMI is 30.66\n"
     ]
    },
    {
     "data": {
      "image/png": "[encoded data removed]",
      "text/plain": [
       "<Figure size 432x288 with 1 Axes>"
      ]
     },
     "metadata": {
      "needs_background": "light"
     },
     "output_type": "display_data"
    },
    {
     "name": "stdout",
     "output_type": "stream",
     "text": [
      "The average cost for low BMI is 8852.2\n",
      "The average cost for healthy BMI is 10409.34\n",
      "The average cost for overweight BMI is 10987.51\n",
      "The average cost for high BMI is 15552.34\n"
     ]
    }
   ],
   "source": [
    "#plot the BMI distribution and average\n",
    "plt.hist(bmi, color = \"pink\")\n",
    "plt.xlabel(\"BMI)\")\n",
    "plt.ylabel(\"Count\")\n",
    "plt.title(\"Distribution of BMI in Dataset\")\n",
    "plt.axvline(x = average(bmi), color = 'b', label = 'axvline - full height')\n",
    "plt.show()\n",
    "\n",
    "# A function to print out costs by BMI range\n",
    "def bmi_cost(bmi, charges):\n",
    "    costs = {\"Low\": [0, 0], \"Healthy\": [0, 0], \"Overweight\": [0, 0], \"Obese\": [0, 0]}\n",
    "    for i in range(len(bmi)):\n",
    "        if bmi[i] < 18.5:\n",
    "            costs[\"Low\"][0] += charges[i]\n",
    "            costs[\"Low\"][1] += 1\n",
    "        elif bmi[i] >= 18.5 and bmi[i] < 25:\n",
    "            costs[\"Healthy\"][0] += charges[i]\n",
    "            costs[\"Healthy\"][1] += 1\n",
    "        elif bmi[i] >= 25 and bmi[i] < 30:\n",
    "            costs[\"Overweight\"][0] += charges[i]\n",
    "            costs[\"Overweight\"][1] += 1    \n",
    "        elif bmi[i] >= 30:\n",
    "            costs[\"Obese\"][0] += charges[i]\n",
    "            costs[\"Obese\"][1] += 1  \n",
    "    low_avg = round(costs[\"Low\"][0]/costs[\"Low\"][1],2)\n",
    "    healthy_avg = round(costs[\"Healthy\"][0]/costs[\"Healthy\"][1],2)\n",
    "    overweight_avg = round(costs[\"Overweight\"][0]/costs[\"Overweight\"][1],2)\n",
    "    obese_avg = round(costs[\"Obese\"][0]/costs[\"Obese\"][1],2)\n",
    "    costs = [low_avg, healthy_avg, overweight_avg, obese_avg]\n",
    "    bmi_list = [\"Under weight\", \"Healthy\", \"Overweight\", \"Obese\"]\n",
    "    plt.bar([i for i in range(1, 5)], costs, color = \"#009E73\")\n",
    "    ax = plt.subplot()\n",
    "    ax.set_xticks([i for i in range(1,5)])\n",
    "    ax.set_xticklabels(bmi_list)\n",
    "    plt.title(\"Average Costs per BMI Range\")\n",
    "    plt.ylabel(\"Average Yearly Costs ($)\")\n",
    "    plt.show()\n",
    "    print (\"The average cost for low BMI is \" + str(low_avg))\n",
    "    print (\"The average cost for healthy BMI is \" + str(healthy_avg))\n",
    "    print (\"The average cost for overweight BMI is \" + str(overweight_avg))\n",
    "    print (\"The average cost for high BMI is \" + str(obese_avg))\n",
    "    \n",
    "print(\"The average BMI is \" + str(round(average(bmi) , 2)))\n",
    "bmi_cost(bmi, charges)\n"
   ]
  },
  {
   "cell_type": "markdown",
   "metadata": {},
   "source": [
    "It seems like the average costs for healthy and overweight BMI are not far apart, compared to the jump to the obese category. Maybe the range for what is considered \"healthy\" can be explored more.\n",
    "***\n",
    "**Which region has highest BMI**"
   ]
  },
  {
   "cell_type": "code",
   "execution_count": 186,
   "metadata": {},
   "outputs": [
    {
     "name": "stdout",
     "output_type": "stream",
     "text": [
      "The BMI average for the southwest is 30.6\n",
      "The BMI average for the southeast is 33.36\n",
      "The BMI average for the northwest is 29.2\n",
      "The BMI average for the northeast is 29.17\n"
     ]
    },
    {
     "data": {
      "image/png": "[encoded data removed]",
      "text/plain": [
       "<Figure size 432x288 with 1 Axes>"
      ]
     },
     "metadata": {
      "needs_background": "light"
     },
     "output_type": "display_data"
    }
   ],
   "source": [
    "# Function to find which region has highest average BMI\n",
    "def highest_avg_bmi(regions, bmi):\n",
    "    locations_bmi = {}\n",
    "    i = 0\n",
    "    averages = []\n",
    "    for location in regions:\n",
    "        if location not in locations_bmi:\n",
    "            locations_bmi[location] = {'count':1, 'sum':bmi[i]}\n",
    "            i+=1\n",
    "        else:\n",
    "            locations_bmi[location]['count']+=1\n",
    "            locations_bmi[location]['sum']+= bmi[i]\n",
    "            i+=1\n",
    "    for location in locations_bmi:\n",
    "        print(\"The BMI average for the \" + location + \" is \" + str(round((locations_bmi[location]['sum']/locations_bmi[location]['count']), 2)))\n",
    "        averages.append(round((locations_bmi[location]['sum']/locations_bmi[location]['count']), 2))\n",
    "    plt.bar(locations_bmi.keys(), averages, color = \"#009E73\")\n",
    "    plt.ylim(28, 34)     # set the ylim to bottom, top\n",
    "    plt.title(\"BMI by Region\")\n",
    "    plt.ylabel(\"BMI\")\n",
    "    plt.show()\n",
    "highest_avg_bmi(region,bmi)\n"
   ]
  },
  {
   "cell_type": "markdown",
   "metadata": {},
   "source": [
    "The southeast has the highest BMI by several points. The southwesthe is the next highest and the other twwo are more close in value. Is there some reason the southeast has higher BMI? "
   ]
  },
  {
   "cell_type": "markdown",
   "metadata": {},
   "source": [
    "***\n",
    "**What role does age play in insurance costs?**"
   ]
  },
  {
   "cell_type": "code",
   "execution_count": 193,
   "metadata": {},
   "outputs": [
    {
     "name": "stdout",
     "output_type": "stream",
     "text": [
      "The average cost for age 11-20 is 8407.35\n",
      "The average cost for age 21-30 is 9492.67\n",
      "The average cost for age 31-40 is 11623.7\n",
      "The average cost for age 41-50 is 14680.66\n",
      "The average cost for age 51-60 is 16594.96\n",
      "The average cost for age 61+ is 21063.16\n",
      "\n"
     ]
    },
    {
     "data": {
      "image/png": "[encoded data removed]",
      "text/plain": [
       "<Figure size 432x288 with 1 Axes>"
      ]
     },
     "metadata": {
      "needs_background": "light"
     },
     "output_type": "display_data"
    }
   ],
   "source": [
    "# Function to see cost by decade of age\n",
    "def age_cost(age, charges):\n",
    "    costs = {\"11-20\": [0, 0], \"21-30\": [0, 0], \"31-40\": [0, 0], \"41-50\": [0, 0], \"51-60\": [0, 0], \"61+\": [0, 0]}\n",
    "    averages = []\n",
    "    for i in range(len(bmi)):\n",
    "        if age[i] < 11:\n",
    "            costs[\"0-10\"][0] += charges[i]\n",
    "            costs[\"0-10\"][1] += 1\n",
    "        elif age[i] >= 11 and age[i] < 20:\n",
    "            costs[\"11-20\"][0] += charges[i]\n",
    "            costs[\"11-20\"][1] += 1\n",
    "        elif age[i] >= 21 and age[i] < 30:\n",
    "            costs[\"21-30\"][0] += charges[i]\n",
    "            costs[\"21-30\"][1] += 1   \n",
    "        elif age[i] >= 31 and age[i] < 40:\n",
    "            costs[\"31-40\"][0] += charges[i]\n",
    "            costs[\"31-40\"][1] += 1 \n",
    "        elif age[i] >= 41 and age[i] < 50:\n",
    "            costs[\"41-50\"][0] += charges[i]\n",
    "            costs[\"41-50\"][1] += 1   \n",
    "        elif age[i] >= 51 and age[i] < 60:\n",
    "            costs[\"51-60\"][0] += charges[i]\n",
    "            costs[\"51-60\"][1] += 1 \n",
    "        elif age[i] >= 61:\n",
    "            costs[\"61+\"][0] += charges[i]\n",
    "            costs[\"61+\"][1] += 1\n",
    "\n",
    "    \n",
    "    for key in costs:\n",
    "        if costs[key][1] == 0:\n",
    "            pass\n",
    "        else:\n",
    "            print(\"The average cost for age \" + key + \" is \" + str(round(costs[key][0]/costs[key][1],2)))\n",
    "            averages.append(round(costs[key][0]/costs[key][1],2))\n",
    "    plt.bar([i for i in range(len(averages))], averages, color = \"#CC79A7\")\n",
    "    ax = plt.subplot()\n",
    "    ax.set_xticks([i for i in range(len(costs.keys()))])\n",
    "    ax.set_xticklabels(costs.keys())\n",
    "    plt.title(\"Cost per Age Group\")\n",
    "    plt.xlabel(\"Age Group\")\n",
    "    plt.ylabel(\"Average Yearly Cost ($)\")\n",
    "    plt.show\n",
    "age_cost(ages, charges)\n",
    "print('')\n"
   ]
  },
  {
   "cell_type": "markdown",
   "metadata": {},
   "source": [
    "From this we can see that average costs increase with age."
   ]
  }
 ],
 "metadata": {
  "kernelspec": {
   "display_name": "Python 3 (ipykernel)",
   "language": "python",
   "name": "python3"
  },
  "language_info": {
   "codemirror_mode": {
    "name": "ipython",
    "version": 3
   },
   "file_extension": ".py",
   "mimetype": "text/x-python",
   "name": "python",
   "nbconvert_exporter": "python",
   "pygments_lexer": "ipython3",
   "version": "3.9.12"
  }
 },
 "nbformat": 4,
 "nbformat_minor": 4
}
